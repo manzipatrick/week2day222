{
 "cells": [
  {
   "cell_type": "code",
   "execution_count": 32,
   "metadata": {},
   "outputs": [
    {
     "name": "stdout",
     "output_type": "stream",
     "text": [
      "0.11324399001586849\n",
      "6\n",
      "3position\n"
     ]
    }
   ],
   "source": [
    "#Problem 4. Part 1: Implement a Snail class which can stepForwards and stepBackwards. stepForwards and stepBackwards should take an argument describing the distance that the Snail moves. The snail should know where it is, so keep track of the snail’s position, by keeping an instance attribute of how far it has moved. The snail should have a unique identiﬁer. Use a class attribute to keep track of how many snails exist, and use an instance attribute to keep track of which number the snail is.\n",
    "from random import random\n",
    "class Snail:\n",
    "    counter=0\n",
    "    def __init__(self):\n",
    "        self.id=Snail.counter\n",
    "        Snail.counter += 1\n",
    "        self.distance=0\n",
    "    def stepForwards(self):\n",
    "        self.distance+=1\n",
    "        return self.distance\n",
    "    def stepBackwards(self):\n",
    "        self.distance-=1\n",
    "        return self.distance\n",
    "    def randStep(self):\n",
    "        if random() < 0.5:\n",
    "            self.stepForwards()\n",
    "        else:\n",
    "            self.stepBackwards()\n",
    "one=Snail()\n",
    "two=Snail()\n",
    "three=Snail()\n",
    "four=Snail()\n",
    "five=Snail()\n",
    "six=Snail()\n",
    "\n",
    "print(random())\n",
    "\n",
    "\n",
    "#three.stepForwards()\n",
    "\n",
    "print(Snail.counter)\n",
    "x=one.stepForwards()\n",
    "y=one.stepForwards()\n",
    "\n",
    "a=two.stepBackwards()\n",
    "b=two.stepBackwards()\n",
    "print(str( one.stepForwards() ) + 'position' )\n",
    "#print(str( two.stepBackwards() ) + 'position' )\n",
    "#print(one.id)\n",
    "\n",
    "for _ in range(50):\n",
    "    one.randStep()\n",
    "    \n",
    "    \n",
    "    \n",
    "\n",
    "\n",
    "\n",
    "        \n",
    "        \n",
    "        \n",
    "        \n",
    "    "
   ]
  },
  {
   "cell_type": "code",
   "execution_count": null,
   "metadata": {},
   "outputs": [],
   "source": []
  },
  {
   "cell_type": "code",
   "execution_count": null,
   "metadata": {},
   "outputs": [],
   "source": [
    "class Snail:\n",
    "    counter=0\n",
    "    def __init__(self):\n",
    "        self.id=Snail.counter\n",
    "        Snail.counter += 1\n",
    "        self.distance=0\n",
    "    def stepForwards(self):\n",
    "        self.distance+=1\n",
    "        return self.distance\n",
    "    def stepBackwards(self):\n",
    "        self.distance-=1\n",
    "        return self.distance\n",
    "    def randStep(self):\n",
    "        if random() < 0.5:\n",
    "            self.stepForwards()\n",
    "        else:\n",
    "            self.stepBackwards()"
   ]
  },
  {
   "cell_type": "code",
   "execution_count": 39,
   "metadata": {},
   "outputs": [
    {
     "name": "stdout",
     "output_type": "stream",
     "text": [
      "Your string is manzi patrick\n",
      "it has length13\n",
      "None\n"
     ]
    }
   ],
   "source": [
    "class Mystring:\n",
    "    def __init__(self,s):\n",
    "        self.s=s\n",
    "    def __call__(self):\n",
    "        print('Your string is ' + self.s )\n",
    "        print('it has length' + str(len(self.s)))\n",
    "ms=Mystring('manzi patrick') \n",
    "print(ms())\n",
    "    "
   ]
  },
  {
   "cell_type": "code",
   "execution_count": 58,
   "metadata": {},
   "outputs": [
    {
     "name": "stdout",
     "output_type": "stream",
     "text": [
      "78.5\n",
      "31.400000000000002\n"
     ]
    }
   ],
   "source": [
    "import numpy as np\n",
    "\n",
    "\n",
    "class Point:\n",
    "    def __init__(self,x,y):\n",
    "        self.x=x\n",
    "        self.y=y\n",
    "        \n",
    "def dist(p1,p2):\n",
    "    return sqrt((p1.x - p2.x)**2 + (p1.y - p2.y)**2)\n",
    "\n",
    "\n",
    "class Circle:\n",
    "    pi=3.14\n",
    "    def __init__(self,rad,point):\n",
    "        self.radius=rad\n",
    "        self.point=point\n",
    "    def FindArea(self):\n",
    "        area=Circle.pi*self.radius**2\n",
    "        return area\n",
    "    def FindCirc(self):\n",
    "        circm=2*Circle.pi*self.radius\n",
    "        return circm\n",
    "        \n",
    "point=Point(2,4)\n",
    "cir=Circle(5,point)\n",
    "print(cir.FindArea())\n",
    "print(cir.FindCirc())\n",
    "        "
   ]
  },
  {
   "cell_type": "code",
   "execution_count": 63,
   "metadata": {},
   "outputs": [
    {
     "ename": "TypeError",
     "evalue": "__init__() takes 3 positional arguments but 5 were given",
     "output_type": "error",
     "traceback": [
      "\u001b[1;31m---------------------------------------------------------------------------\u001b[0m",
      "\u001b[1;31mTypeError\u001b[0m                                 Traceback (most recent call last)",
      "\u001b[1;32m<ipython-input-63-1bbf13aeeff4>\u001b[0m in \u001b[0;36m<module>\u001b[1;34m\u001b[0m\n\u001b[0;32m     12\u001b[0m     \u001b[1;32mdef\u001b[0m \u001b[0m__init__\u001b[0m\u001b[1;33m(\u001b[0m\u001b[0mself\u001b[0m\u001b[1;33m,\u001b[0m\u001b[0mpointx\u001b[0m\u001b[1;33m,\u001b[0m\u001b[0mpoiny\u001b[0m\u001b[1;33m,\u001b[0m\u001b[0ml1\u001b[0m\u001b[1;33m,\u001b[0m\u001b[0ml2\u001b[0m\u001b[1;33m)\u001b[0m\u001b[1;33m:\u001b[0m\u001b[1;33m\u001b[0m\u001b[1;33m\u001b[0m\u001b[0m\n\u001b[0;32m     13\u001b[0m         \u001b[0msuper\u001b[0m\u001b[1;33m(\u001b[0m\u001b[0mParallellogram\u001b[0m\u001b[1;33m,\u001b[0m\u001b[0mself\u001b[0m\u001b[1;33m)\u001b[0m\u001b[1;33m.\u001b[0m\u001b[0m__init__\u001b[0m\u001b[1;33m(\u001b[0m\u001b[0mpoint\u001b[0m\u001b[1;33m,\u001b[0m\u001b[1;36m90\u001b[0m\u001b[1;33m,\u001b[0m\u001b[0ml1\u001b[0m\u001b[1;33m,\u001b[0m\u001b[0ml2\u001b[0m\u001b[1;33m)\u001b[0m\u001b[1;33m\u001b[0m\u001b[1;33m\u001b[0m\u001b[0m\n\u001b[1;32m---> 14\u001b[1;33m \u001b[0mr\u001b[0m\u001b[1;33m=\u001b[0m\u001b[0mRectangle\u001b[0m\u001b[1;33m(\u001b[0m\u001b[1;36m10\u001b[0m\u001b[1;33m,\u001b[0m\u001b[1;36m20\u001b[0m\u001b[1;33m,\u001b[0m\u001b[1;36m50\u001b[0m\u001b[1;33m,\u001b[0m\u001b[1;36m70\u001b[0m\u001b[1;33m)\u001b[0m\u001b[1;33m\u001b[0m\u001b[1;33m\u001b[0m\u001b[0m\n\u001b[0m\u001b[0;32m     15\u001b[0m \u001b[0mr\u001b[0m\u001b[1;33m.\u001b[0m\u001b[0mFindArea\u001b[0m\u001b[1;33m(\u001b[0m\u001b[1;33m)\u001b[0m\u001b[1;33m\u001b[0m\u001b[1;33m\u001b[0m\u001b[0m\n",
      "\u001b[1;32m<ipython-input-63-1bbf13aeeff4>\u001b[0m in \u001b[0;36m__init__\u001b[1;34m(self, pointx, poiny, l1, l2)\u001b[0m\n\u001b[0;32m     11\u001b[0m \u001b[1;32mclass\u001b[0m \u001b[0mRectangle\u001b[0m\u001b[1;33m(\u001b[0m\u001b[0mParallellogram\u001b[0m\u001b[1;33m)\u001b[0m\u001b[1;33m:\u001b[0m\u001b[1;33m\u001b[0m\u001b[1;33m\u001b[0m\u001b[0m\n\u001b[0;32m     12\u001b[0m     \u001b[1;32mdef\u001b[0m \u001b[0m__init__\u001b[0m\u001b[1;33m(\u001b[0m\u001b[0mself\u001b[0m\u001b[1;33m,\u001b[0m\u001b[0mpointx\u001b[0m\u001b[1;33m,\u001b[0m\u001b[0mpoiny\u001b[0m\u001b[1;33m,\u001b[0m\u001b[0ml1\u001b[0m\u001b[1;33m,\u001b[0m\u001b[0ml2\u001b[0m\u001b[1;33m)\u001b[0m\u001b[1;33m:\u001b[0m\u001b[1;33m\u001b[0m\u001b[1;33m\u001b[0m\u001b[0m\n\u001b[1;32m---> 13\u001b[1;33m         \u001b[0msuper\u001b[0m\u001b[1;33m(\u001b[0m\u001b[0mParallellogram\u001b[0m\u001b[1;33m,\u001b[0m\u001b[0mself\u001b[0m\u001b[1;33m)\u001b[0m\u001b[1;33m.\u001b[0m\u001b[0m__init__\u001b[0m\u001b[1;33m(\u001b[0m\u001b[0mpoint\u001b[0m\u001b[1;33m,\u001b[0m\u001b[1;36m90\u001b[0m\u001b[1;33m,\u001b[0m\u001b[0ml1\u001b[0m\u001b[1;33m,\u001b[0m\u001b[0ml2\u001b[0m\u001b[1;33m)\u001b[0m\u001b[1;33m\u001b[0m\u001b[1;33m\u001b[0m\u001b[0m\n\u001b[0m\u001b[0;32m     14\u001b[0m \u001b[0mr\u001b[0m\u001b[1;33m=\u001b[0m\u001b[0mRectangle\u001b[0m\u001b[1;33m(\u001b[0m\u001b[1;36m10\u001b[0m\u001b[1;33m,\u001b[0m\u001b[1;36m20\u001b[0m\u001b[1;33m,\u001b[0m\u001b[1;36m50\u001b[0m\u001b[1;33m,\u001b[0m\u001b[1;36m70\u001b[0m\u001b[1;33m)\u001b[0m\u001b[1;33m\u001b[0m\u001b[1;33m\u001b[0m\u001b[0m\n\u001b[0;32m     15\u001b[0m \u001b[0mr\u001b[0m\u001b[1;33m.\u001b[0m\u001b[0mFindArea\u001b[0m\u001b[1;33m(\u001b[0m\u001b[1;33m)\u001b[0m\u001b[1;33m\u001b[0m\u001b[1;33m\u001b[0m\u001b[0m\n",
      "\u001b[1;31mTypeError\u001b[0m: __init__() takes 3 positional arguments but 5 were given"
     ]
    }
   ],
   "source": [
    "class Parallellogram(Point):\n",
    "    def __init__(self,pointx,pointy,a,l1,l2):\n",
    "        super().__init__(pointx,pointy)\n",
    "        self.angle=a\n",
    "        self.length1=l1\n",
    "        self.length2=l2\n",
    "    def FindArea(self):\n",
    "        return self.length1*self.length2\n",
    "    \n",
    "    \n",
    "class Rectangle(Parallellogram):\n",
    "    def __init__(self,pointx,poiny,l1,l2):\n",
    "        super(Parallellogram,self).__init__(point,90,l1,l2)\n",
    "r=Rectangle(10,20,50,70)\n",
    "r.FindArea()\n"
   ]
  },
  {
   "cell_type": "code",
   "execution_count": null,
   "metadata": {},
   "outputs": [],
   "source": []
  }
 ],
 "metadata": {
  "kernelspec": {
   "display_name": "Python 3",
   "language": "python",
   "name": "python3"
  },
  "language_info": {
   "codemirror_mode": {
    "name": "ipython",
    "version": 3
   },
   "file_extension": ".py",
   "mimetype": "text/x-python",
   "name": "python",
   "nbconvert_exporter": "python",
   "pygments_lexer": "ipython3",
   "version": "3.7.3"
  }
 },
 "nbformat": 4,
 "nbformat_minor": 2
}
